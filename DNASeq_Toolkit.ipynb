{
  "nbformat": 4,
  "nbformat_minor": 0,
  "metadata": {
    "colab": {
      "name": "DNASeq_Toolkit.ipynb",
      "provenance": [],
      "mount_file_id": "1WacCmsbWZrVvGqYrovto_6QDgl09X1rj",
      "authorship_tag": "ABX9TyOGCowk87RjcfMobNvt6g5N",
      "include_colab_link": true
    },
    "kernelspec": {
      "name": "python3",
      "display_name": "Python 3"
    },
    "language_info": {
      "name": "python"
    }
  },
  "cells": [
    {
      "cell_type": "markdown",
      "metadata": {
        "id": "view-in-github",
        "colab_type": "text"
      },
      "source": [
        "<a href=\"https://colab.research.google.com/github/delicate99/Bioinformatics/blob/main/DNASeq_Toolkit.ipynb\" target=\"_parent\"><img src=\"https://colab.research.google.com/assets/colab-badge.svg\" alt=\"Open In Colab\"/></a>"
      ]
    },
    {
      "cell_type": "code",
      "metadata": {
        "id": "5LO7ERX6AIuQ"
      },
      "source": [
        "nucleotides = [\"A\",\"T\",\"G\", \"C\"]\n",
        "\n"
      ],
      "execution_count": 1,
      "outputs": []
    },
    {
      "cell_type": "code",
      "metadata": {
        "colab": {
          "base_uri": "https://localhost:8080/"
        },
        "id": "1Vp1eMVWFTiJ",
        "outputId": "6f0d3734-86ad-4c34-b383-f20fdcad5480"
      },
      "source": [
        "!pip install DNA_Toolkit"
      ],
      "execution_count": 2,
      "outputs": [
        {
          "output_type": "stream",
          "name": "stdout",
          "text": [
            "\u001b[31mERROR: Could not find a version that satisfies the requirement DNA_Toolkit (from versions: none)\u001b[0m\n",
            "\u001b[31mERROR: No matching distribution found for DNA_Toolkit\u001b[0m\n"
          ]
        }
      ]
    },
    {
      "cell_type": "markdown",
      "metadata": {
        "id": "L-kZI9pUqZv1"
      },
      "source": [
        ""
      ]
    },
    {
      "cell_type": "code",
      "metadata": {
        "colab": {
          "base_uri": "https://localhost:8080/"
        },
        "id": "vhCYfYqlKFMM",
        "outputId": "9210a0fb-97e9-499d-f336-44c87266f028"
      },
      "source": [
        "!git clone https://gitlab.com/RebelCoder/dna-toolset"
      ],
      "execution_count": 3,
      "outputs": [
        {
          "output_type": "stream",
          "name": "stdout",
          "text": [
            "Cloning into 'dna-toolset'...\n",
            "warning: redirecting to https://gitlab.com/RebelCoder/dna-toolset.git/\n",
            "remote: Enumerating objects: 64, done.\u001b[K\n",
            "remote: Counting objects: 100% (41/41), done.\u001b[K\n",
            "remote: Compressing objects: 100% (31/31), done.\u001b[K\n",
            "remote: Total 64 (delta 18), reused 18 (delta 9), pack-reused 23\u001b[K\n",
            "Unpacking objects: 100% (64/64), done.\n"
          ]
        }
      ]
    },
    {
      "cell_type": "code",
      "metadata": {
        "colab": {
          "base_uri": "https://localhost:8080/"
        },
        "id": "RSt1qtM1_T4H",
        "outputId": "7d181655-8bf8-4d62-cfe6-b80580211392"
      },
      "source": [
        "%cd dna-toolset"
      ],
      "execution_count": 4,
      "outputs": [
        {
          "output_type": "stream",
          "name": "stdout",
          "text": [
            "/content/dna-toolset\n"
          ]
        }
      ]
    },
    {
      "cell_type": "code",
      "metadata": {
        "colab": {
          "base_uri": "https://localhost:8080/"
        },
        "id": "Uoaj1cx5_h1a",
        "outputId": "b9960602-99fe-4437-ef64-7ac1034bc1bb"
      },
      "source": [
        "!pwd"
      ],
      "execution_count": 5,
      "outputs": [
        {
          "output_type": "stream",
          "name": "stdout",
          "text": [
            "/content/dna-toolset\n"
          ]
        }
      ]
    },
    {
      "cell_type": "code",
      "metadata": {
        "id": "GTEimcqOKSt4"
      },
      "source": [
        "from bio_seq import *\n",
        "import collections\n",
        "from utilities import colored\n",
        "from bio_structs import*\n",
        "from bio_seq import *"
      ],
      "execution_count": 6,
      "outputs": []
    },
    {
      "cell_type": "code",
      "metadata": {
        "id": "kfj4PnkcAQ9g"
      },
      "source": [
        "def validateSeq(seq):\n",
        "    tmpseq= seq.upper()\n",
        "    for nuc in tmpseq:\n",
        "        if nuc not in nucleotides:\n",
        "            return False\n",
        "    return tmpseq\n",
        "        "
      ],
      "execution_count": 7,
      "outputs": []
    },
    {
      "cell_type": "code",
      "metadata": {
        "colab": {
          "base_uri": "https://localhost:8080/"
        },
        "id": "z3fJ0IyLBAf3",
        "outputId": "7d8df638-05cf-4f2a-ca86-aeb2c0127225"
      },
      "source": [
        " from bio_seq import *\n",
        "\n",
        "randnaSeq= \"ATTCGCCT\"\n",
        "print(validateSeq(randnaSeq))"
      ],
      "execution_count": 8,
      "outputs": [
        {
          "output_type": "stream",
          "name": "stdout",
          "text": [
            "ATTCGCCT\n"
          ]
        }
      ]
    },
    {
      "cell_type": "code",
      "metadata": {
        "colab": {
          "base_uri": "https://localhost:8080/"
        },
        "id": "ihkVCQzrQz2v",
        "outputId": "28f532f0-7ed7-40db-dc35-74430a59ce7e"
      },
      "source": [
        "import random\n",
        "randomDNA = ''.join([random.choice(nucleotides) for nuc in range(40)])\n",
        "dnaseq = randomDNA\n",
        "print(dnaseq)"
      ],
      "execution_count": 9,
      "outputs": [
        {
          "output_type": "stream",
          "name": "stdout",
          "text": [
            "CATTCATGGGTGTTATATCCGAGCCGTGCATCCCCTGTGT\n"
          ]
        }
      ]
    },
    {
      "cell_type": "code",
      "metadata": {
        "id": "Ypig-LHnpEDr"
      },
      "source": [
        "RNA_Codons = {\n",
        "    # 'M' - START, '_' - STOP\n",
        "    \"GCU\": \"A\", \"GCC\": \"A\", \"GCA\": \"A\", \"GCG\": \"A\",\n",
        "    \"UGU\": \"C\", \"UGC\": \"C\",\n",
        "    \"GAU\": \"D\", \"GAC\": \"D\",\n",
        "    \"GAA\": \"E\", \"GAG\": \"E\",\n",
        "    \"UUU\": \"F\", \"UUC\": \"F\",\n",
        "    \"GGU\": \"G\", \"GGC\": \"G\", \"GGA\": \"G\", \"GGG\": \"G\",\n",
        "    \"CAU\": \"H\", \"CAC\": \"H\",\n",
        "    \"AUA\": \"I\", \"AUU\": \"I\", \"AUC\": \"I\",\n",
        "    \"AAA\": \"K\", \"AAG\": \"K\",\n",
        "    \"UUA\": \"L\", \"UUG\": \"L\", \"CUU\": \"L\", \"CUC\": \"L\", \"CUA\": \"L\", \"CUG\": \"L\",\n",
        "    \"AUG\": \"M\",\n",
        "    \"AAU\": \"N\", \"AAC\": \"N\",\n",
        "    \"CCU\": \"P\", \"CCC\": \"P\", \"CCA\": \"P\", \"CCG\": \"P\",\n",
        "    \"CAA\": \"Q\", \"CAG\": \"Q\",\n",
        "    \"CGU\": \"R\", \"CGC\": \"R\", \"CGA\": \"R\", \"CGG\": \"R\", \"AGA\": \"R\", \"AGG\": \"R\",\n",
        "    \"UCU\": \"S\", \"UCC\": \"S\", \"UCA\": \"S\", \"UCG\": \"S\", \"AGU\": \"S\", \"AGC\": \"S\",\n",
        "    \"ACU\": \"T\", \"ACC\": \"T\", \"ACA\": \"T\", \"ACG\": \"T\",\n",
        "    \"GUU\": \"V\", \"GUC\": \"V\", \"GUA\": \"V\", \"GUG\": \"V\",\n",
        "    \"UGG\": \"W\",\n",
        "    \"UAU\": \"Y\", \"UAC\": \"Y\",\n",
        "    \"UAA\": \"_\", \"UAG\": \"_\", \"UGA\": \"_\"\n",
        "}\n"
      ],
      "execution_count": 10,
      "outputs": []
    },
    {
      "cell_type": "code",
      "metadata": {
        "colab": {
          "base_uri": "https://localhost:8080/"
        },
        "id": "vpWTmENupP87",
        "outputId": "95bcee7f-2e67-4211-a246-2c6f49781138"
      },
      "source": [
        "for codon, aminoacid in RNA_Codons.items():\n",
        "    codon = codon.replace(\"U\", \"T\")\n",
        "    DNA_Codons[\"codon\"] =aminoacid\n",
        "DNA_Codons"
      ],
      "execution_count": 11,
      "outputs": [
        {
          "output_type": "execute_result",
          "data": {
            "text/plain": [
              "{'AAA': 'K',\n",
              " 'AAC': 'N',\n",
              " 'AAG': 'K',\n",
              " 'AAT': 'N',\n",
              " 'ACA': 'T',\n",
              " 'ACC': 'T',\n",
              " 'ACG': 'T',\n",
              " 'ACT': 'T',\n",
              " 'AGA': 'R',\n",
              " 'AGC': 'S',\n",
              " 'AGG': 'R',\n",
              " 'AGT': 'S',\n",
              " 'ATA': 'I',\n",
              " 'ATC': 'I',\n",
              " 'ATG': 'M',\n",
              " 'ATT': 'I',\n",
              " 'CAA': 'Q',\n",
              " 'CAC': 'H',\n",
              " 'CAG': 'Q',\n",
              " 'CAT': 'H',\n",
              " 'CCA': 'P',\n",
              " 'CCC': 'P',\n",
              " 'CCG': 'P',\n",
              " 'CCT': 'P',\n",
              " 'CGA': 'R',\n",
              " 'CGC': 'R',\n",
              " 'CGG': 'R',\n",
              " 'CGT': 'R',\n",
              " 'CTA': 'L',\n",
              " 'CTC': 'L',\n",
              " 'CTG': 'L',\n",
              " 'CTT': 'L',\n",
              " 'GAA': 'E',\n",
              " 'GAC': 'D',\n",
              " 'GAG': 'E',\n",
              " 'GAT': 'D',\n",
              " 'GCA': 'A',\n",
              " 'GCC': 'A',\n",
              " 'GCG': 'A',\n",
              " 'GCT': 'A',\n",
              " 'GGA': 'G',\n",
              " 'GGC': 'G',\n",
              " 'GGG': 'G',\n",
              " 'GGT': 'G',\n",
              " 'GTA': 'V',\n",
              " 'GTC': 'V',\n",
              " 'GTG': 'V',\n",
              " 'GTT': 'V',\n",
              " 'TAA': '_',\n",
              " 'TAC': 'Y',\n",
              " 'TAG': '_',\n",
              " 'TAT': 'Y',\n",
              " 'TCA': 'S',\n",
              " 'TCC': 'S',\n",
              " 'TCG': 'S',\n",
              " 'TCT': 'S',\n",
              " 'TGA': '_',\n",
              " 'TGC': 'C',\n",
              " 'TGG': 'W',\n",
              " 'TGT': 'C',\n",
              " 'TTA': 'L',\n",
              " 'TTC': 'F',\n",
              " 'TTG': 'L',\n",
              " 'TTT': 'F',\n",
              " 'codon': '_'}"
            ]
          },
          "metadata": {},
          "execution_count": 11
        }
      ]
    },
    {
      "cell_type": "code",
      "metadata": {
        "colab": {
          "base_uri": "https://localhost:8080/"
        },
        "id": "eHUmCHy8Rmxu",
        "outputId": "a5989be2-5a03-499a-d6e6-98e37256871b"
      },
      "source": [
        "def countnucFrequency(seq):\n",
        "    # freqDic = {\"A\":0, \"T\":0,\"G\":0, \"C\":0}\n",
        "    # for nuc in seq:\n",
        "    #     freqDic[nuc] +=1\n",
        "    # return freqDic\n",
        "    return dict(collections.Counter(seq))\n",
        "print(validateSeq(dnaseq))\n",
        "print(countnucFrequency(dnaseq))"
      ],
      "execution_count": 12,
      "outputs": [
        {
          "output_type": "stream",
          "name": "stdout",
          "text": [
            "CATTCATGGGTGTTATATCCGAGCCGTGCATCCCCTGTGT\n",
            "{'C': 11, 'A': 6, 'T': 13, 'G': 10}\n"
          ]
        }
      ]
    },
    {
      "cell_type": "code",
      "metadata": {
        "id": "3-N4HGNzoSlc"
      },
      "source": [
        "def transcription(seq):\n",
        "    return seq.replace(\"T\", \"U\")"
      ],
      "execution_count": 13,
      "outputs": []
    },
    {
      "cell_type": "code",
      "metadata": {
        "colab": {
          "base_uri": "https://localhost:8080/"
        },
        "id": "MW76qH4Hof2-",
        "outputId": "e1e22ba2-bbde-4e52-be6e-9ffe318b4a6e"
      },
      "source": [
        "print(transcription(dnaseq))\n",
        "print(countnucFrequency(dnaseq))"
      ],
      "execution_count": 14,
      "outputs": [
        {
          "output_type": "stream",
          "name": "stdout",
          "text": [
            "CAUUCAUGGGUGUUAUAUCCGAGCCGUGCAUCCCCUGUGU\n",
            "{'C': 11, 'A': 6, 'T': 13, 'G': 10}\n"
          ]
        }
      ]
    },
    {
      "cell_type": "code",
      "metadata": {
        "id": "sTXUz89QzBzy"
      },
      "source": [
        "DNAreverseComplement={\"A\":\"T\", \"G\":\"C\", \"C\":\"G\", \"T\":\"A\"}"
      ],
      "execution_count": 15,
      "outputs": []
    },
    {
      "cell_type": "code",
      "metadata": {
        "id": "J_K6kdIx0T0z"
      },
      "source": [
        "def reverse_complement(seq):\n",
        "    return ''.join([DNAreverseComplement[nuc] for nuc in seq[::-1]])\n",
        "    # mapping = str.maketran('ATCG','TAGC')\n",
        "    # return dnaseq.translate(mapping)[::-1]"
      ],
      "execution_count": 16,
      "outputs": []
    },
    {
      "cell_type": "code",
      "metadata": {
        "id": "N5UCrq-ObkRo"
      },
      "source": [
        "def gc_content(seq):\n",
        "    return round(((seq.count('C')+seq.count(\"G\"))/len(seq))*100)"
      ],
      "execution_count": 17,
      "outputs": []
    },
    {
      "cell_type": "code",
      "metadata": {
        "id": "0-66lQ9ShWeC"
      },
      "source": [
        "def gc_content_subsec(seq, k=20):\n",
        "    res=[]\n",
        "    for i in range(0, len(seq)-k+1, k):\n",
        "        subseq=seq[i:i+k]\n",
        "        res.append(gc_content(subseq))\n",
        "    return res"
      ],
      "execution_count": 18,
      "outputs": []
    },
    {
      "cell_type": "code",
      "metadata": {
        "id": "RM9Rr5H0-Ks1"
      },
      "source": [
        "def translate_seq(seq, init_pos=0):\n",
        "    return [DNA_Codons[seq[pos:pos+3]] for pos in range(init_pos, len(seq)-2, 3)]\n"
      ],
      "execution_count": 19,
      "outputs": []
    },
    {
      "cell_type": "code",
      "metadata": {
        "id": "9jguuV9bdQiB"
      },
      "source": [
        "def codon_usage(seq, aminoacid):\n",
        "    tmpList=[]\n",
        "    for i in range(0, len(seq)-2, 3):\n",
        "        if DNA_Codons[seq[i:i+3]] == aminoacid:\n",
        "            tmpList.append(seq[i:i+3])\n",
        "    freqDict = dict(Counter(tmpList))\n",
        "    totalWight =sum(freqDict.values())\n",
        "    for seq in freqDict:\n",
        "        freqDict[seq] = round(freqDict[seq]/totalWight, 2)\n",
        "    return freqDict\n"
      ],
      "execution_count": 20,
      "outputs": []
    },
    {
      "cell_type": "code",
      "metadata": {
        "id": "CTg9AhfGCAlZ"
      },
      "source": [
        "def gen_reading_frames(seq):\n",
        "    frames=[]\n",
        "    frames.append(translate_seq(seq,0))\n",
        "    frames.append(translate_seq(seq,1))\n",
        "    frames.append(translate_seq(seq,2))\n",
        "    frames.append(translate_seq(reverse_complement(seq),0))\n",
        "    frames.append(translate_seq(reverse_complement(seq),1))\n",
        "    frames.append(translate_seq(reverse_complement(seq),2))\n",
        "    return frames\n",
        "\n",
        "\n",
        "\n"
      ],
      "execution_count": 21,
      "outputs": []
    },
    {
      "cell_type": "code",
      "metadata": {
        "id": "r2FM9Ms9REmI"
      },
      "source": [
        "def protein_from_rf(aa_seq):\n",
        "    current_prot=[]\n",
        "    proteins=[]\n",
        "    for aa in aa_seq:\n",
        "        if aa == '_':\n",
        "            if current_prot:\n",
        "                for p in current_prot:\n",
        "                    proteins.append(p)\n",
        "                    current_prot =[]\n",
        "        else:\n",
        "            if aa == \"M\":\n",
        "                current_prot.append(\"\")\n",
        "            for i in range(len(current_prot)):\n",
        "                current_prot[i]+=aa\n",
        "    return proteins \n",
        "\n"
      ],
      "execution_count": 22,
      "outputs": []
    },
    {
      "cell_type": "code",
      "metadata": {
        "id": "y66OQWhCSPuD"
      },
      "source": [
        "test_rf_frame = ['L', 'M', 'T', 'A', 'L', 'V', 'V', 'L', 'L', 'R', 'G', 'S', '_', 'G', 'H']"
      ],
      "execution_count": 23,
      "outputs": []
    },
    {
      "cell_type": "code",
      "metadata": {
        "colab": {
          "base_uri": "https://localhost:8080/"
        },
        "id": "xo1-7AJ_TftF",
        "outputId": "8443dc1b-4f28-4e98-9cbd-8a62984d50d2"
      },
      "source": [
        "protein_from_rf(test_rf_frame)"
      ],
      "execution_count": 24,
      "outputs": [
        {
          "output_type": "execute_result",
          "data": {
            "text/plain": [
              "['MTALVVLLRGS']"
            ]
          },
          "metadata": {},
          "execution_count": 24
        }
      ]
    },
    {
      "cell_type": "code",
      "metadata": {
        "id": "VvzWT9T9Tf4y"
      },
      "source": [
        ""
      ],
      "execution_count": 24,
      "outputs": []
    },
    {
      "cell_type": "code",
      "metadata": {
        "colab": {
          "base_uri": "https://localhost:8080/"
        },
        "id": "q9ddI_qn2oIB",
        "outputId": "7abcef4c-8914-41d4-e76e-5862019591d6"
      },
      "source": [
        "\n",
        "print(f\"\\n (1) Sequence{colored(dnaseq)} \\n (2) DNAlength: {len(dnaseq)} \\n (3) countnucFrequency :{countnucFrequency(dnaseq)})\\n \\\n",
        "(4) Transcription : \\n5'{colored(transcription(dnaseq))} 3'\")\n",
        " \n",
        "print(f\"{''.join(['|' for c in range(len(dnaseq)+2)])} \")\n",
        "print(f\"3'{colored(reverse_complement(dnaseq))} 5'\\n\")\n",
        "print(f\"(5) GC content % : {gc_content(dnaseq)}%\")\n",
        "print(f\"(6) GC_Content_subseq : {gc_content_subsec(dnaseq, k=5)} \\n\")\n",
        "print(f\"(7) Amino acids Sequence from DNA : {translate_seq(dnaseq, 0)}\\n\")\n",
        "print(f\"(8) Codon Frequency : {codon_usage(dnaseq, 'V')}\\n\")\n",
        "print(f\"(9) reading_frames:\")\n",
        "for frames in gen_reading_frames(dnaseq):\n",
        "    print(frames)"
      ],
      "execution_count": 25,
      "outputs": [
        {
          "output_type": "stream",
          "name": "stdout",
          "text": [
            "\n",
            " (1) Sequence\u001b[94mC\u001b[92mA\u001b[91mT\u001b[91mT\u001b[94mC\u001b[92mA\u001b[91mT\u001b[93mG\u001b[93mG\u001b[93mG\u001b[91mT\u001b[93mG\u001b[91mT\u001b[91mT\u001b[92mA\u001b[91mT\u001b[92mA\u001b[91mT\u001b[94mC\u001b[94mC\u001b[93mG\u001b[92mA\u001b[93mG\u001b[94mC\u001b[94mC\u001b[93mG\u001b[91mT\u001b[93mG\u001b[94mC\u001b[92mA\u001b[91mT\u001b[94mC\u001b[94mC\u001b[94mC\u001b[94mC\u001b[91mT\u001b[93mG\u001b[91mT\u001b[93mG\u001b[91mT\u001b[0;0m \n",
            " (2) DNAlength: 40 \n",
            " (3) countnucFrequency :{'C': 11, 'A': 6, 'T': 13, 'G': 10})\n",
            " (4) Transcription : \n",
            "5'\u001b[94mC\u001b[92mA\u001b[91mU\u001b[91mU\u001b[94mC\u001b[92mA\u001b[91mU\u001b[93mG\u001b[93mG\u001b[93mG\u001b[91mU\u001b[93mG\u001b[91mU\u001b[91mU\u001b[92mA\u001b[91mU\u001b[92mA\u001b[91mU\u001b[94mC\u001b[94mC\u001b[93mG\u001b[92mA\u001b[93mG\u001b[94mC\u001b[94mC\u001b[93mG\u001b[91mU\u001b[93mG\u001b[94mC\u001b[92mA\u001b[91mU\u001b[94mC\u001b[94mC\u001b[94mC\u001b[94mC\u001b[91mU\u001b[93mG\u001b[91mU\u001b[93mG\u001b[91mU\u001b[0;0m 3'\n",
            "|||||||||||||||||||||||||||||||||||||||||| \n",
            "3'\u001b[92mA\u001b[94mC\u001b[92mA\u001b[94mC\u001b[92mA\u001b[93mG\u001b[93mG\u001b[93mG\u001b[93mG\u001b[92mA\u001b[91mT\u001b[93mG\u001b[94mC\u001b[92mA\u001b[94mC\u001b[93mG\u001b[93mG\u001b[94mC\u001b[91mT\u001b[94mC\u001b[93mG\u001b[93mG\u001b[92mA\u001b[91mT\u001b[92mA\u001b[91mT\u001b[92mA\u001b[92mA\u001b[94mC\u001b[92mA\u001b[94mC\u001b[94mC\u001b[94mC\u001b[92mA\u001b[91mT\u001b[93mG\u001b[92mA\u001b[92mA\u001b[91mT\u001b[93mG\u001b[0;0m 5'\n",
            "\n",
            "(5) GC content % : 52%\n",
            "(6) GC_Content_subseq : [40, 60, 20, 40, 80, 60, 80, 40] \n",
            "\n",
            "(7) Amino acids Sequence from DNA : ['H', 'S', 'W', 'V', 'L', 'Y', 'P', 'S', 'R', 'A', 'S', 'P', 'V']\n",
            "\n",
            "(8) Codon Frequency : {'GTG': 1.0}\n",
            "\n",
            "(9) reading_frames:\n",
            "['H', 'S', 'W', 'V', 'L', 'Y', 'P', 'S', 'R', 'A', 'S', 'P', 'V']\n",
            "['I', 'H', 'G', 'C', 'Y', 'I', 'R', 'A', 'V', 'H', 'P', 'L', 'C']\n",
            "['F', 'M', 'G', 'V', 'I', 'S', 'E', 'P', 'C', 'I', 'P', 'C']\n",
            "['T', 'Q', 'G', 'M', 'H', 'G', 'S', 'D', 'I', 'T', 'P', 'M', 'N']\n",
            "['H', 'R', 'G', 'C', 'T', 'A', 'R', 'I', '_', 'H', 'P', '_', 'M']\n",
            "['T', 'G', 'D', 'A', 'R', 'L', 'G', 'Y', 'N', 'T', 'H', 'E']\n"
          ]
        }
      ]
    },
    {
      "cell_type": "code",
      "metadata": {
        "id": "idCjIpEcrAo-"
      },
      "source": [
        "def all_proteins_from_orfs(seq, startReadPos=0, endReadPos=0, ordered=False):\n",
        "    if endReadPos>startReadPos:\n",
        "        rfs = gen_reading_frames(seq[startReadPos: endReadPos])\n",
        "    else:\n",
        "        rfs=gen_reading_frames(seq)\n",
        "    \n",
        "    res=[]\n",
        "    for rf in rfs:\n",
        "        prots = protein_from_rf(rf)\n",
        "        for p in prots:\n",
        "            res.append(p)\n",
        "    if ordered:\n",
        "        return sorted(res, key=len, reverse=True)\n",
        "    return res\n"
      ],
      "execution_count": 26,
      "outputs": []
    },
    {
      "cell_type": "code",
      "metadata": {
        "id": "Kt_TLOMCSv3R"
      },
      "source": [
        "NM_001185098_1= \"AGCCCTCCAGGACAGGCTGCATCAGAAGAGGCCATCAAGCAGGTCTGTTCCAAGGGCCTTTGCGTCAGGT\\\n",
        "GGGCTCAGGATTCCAGGGTGGCTGGACCCCAGGCCCCAGCTCTGCAGCAGGGAGGACGTGGCTGGGCTCG\\\n",
        "TGAAGCATGTGGGGGTGAGCCCAGGGGCCCCAAGGCAGGGCACCTGGCCTTCAGCCTGCCTCAGCCCTGC\\\n",
        "CTGTCTCCCAGATCACTGTCCTTCTGCCATGGCCCTGTGGATGCGCCTCCTGCCCCTGCTGGCGCTGCTG\\\n",
        "GCCCTCTGGGGACCTGACCCAGCCGCAGCCTTTGTGAACCAACACCTGTGCGGCTCACACCTGGTGGAAG\\\n",
        "CTCTCTACCTAGTGTGCGGGGAACGAGGCTTCTTCTACACACCCAAGACCCGCCGGGAGGCAGAGGACCT\\\n",
        "GCAGGTGGGGCAGGTGGAGCTGGGCGGGGGCCCTGGTGCAGGCAGCCTGCAGCCCTTGGCCCTGGAGGGG\\\n",
        "TCCCTGCAGAAGCGTGGCATTGTGGAACAATGCTGTACCAGCATCTGCTCCCTCTACCAGCTGGAGAACT\\\n",
        "ACTGCAACTAGACGCAGCCCGCAGGCAGCCCCACACCCGCCGCCTCCTGCACCGAGAGAGATGGAATAAA\\\n",
        "GCCCTTGAACCAGCAAAA\""
      ],
      "execution_count": 27,
      "outputs": []
    },
    {
      "cell_type": "code",
      "metadata": {
        "colab": {
          "base_uri": "https://localhost:8080/"
        },
        "id": "7hD_uqOAMKKA",
        "outputId": "28c2c61c-4b0a-4e9f-81a6-d12c359acb82"
      },
      "source": [
        "print('(10) All proteins in 6 open reading frames:')\n",
        "for prot in all_proteins_from_orfs(NM_001185098_1, 0,0, True):\n",
        "    print(f'{prot}')"
      ],
      "execution_count": 28,
      "outputs": [
        {
          "output_type": "stream",
          "name": "stdout",
          "text": [
            "(10) All proteins in 6 open reading frames:\n",
            "MALWMRLLPLLALLALWGPDPAAAFVNQHLCGSHLVEALYLVCGERGFFYTPKTRREAEDLQVGQVELGGGPGAGSLQPLALEGSLQKRGIVEQCCTSICSLYQLENYCN\n",
            "MRLLPLLALLALWGPDPAAAFVNQHLCGSHLVEALYLVCGERGFFYTPKTRREAEDLQVGQVELGGGPGAGSLQPLALEGSLQKRGIVEQCCTSICSLYQLENYCN\n",
            "MLVQHCSTMPRFCRDPSRAKGCRLPAPGPPPSSTCPTCRSSASRRVLGV\n",
            "MPRFCRDPSRAKGCRLPAPGPPPSSTCPTCRSSASRRVLGV\n",
            "MLHEPSHVLPAAELGPGVQPPWNPEPT\n",
            "MAEGQ\n",
            "MWG\n",
            "ME\n"
          ]
        }
      ]
    }
  ]
}
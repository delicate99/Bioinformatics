{
  "nbformat": 4,
  "nbformat_minor": 0,
  "metadata": {
    "colab": {
      "name": "Covid19.ipynb",
      "provenance": [],
      "mount_file_id": "16nU08y6W9GJfOKhmHkvETNhoQIeGl4d0",
      "authorship_tag": "ABX9TyN3HwJJUiZiJW5KPLGXoNUd",
      "include_colab_link": true
    },
    "kernelspec": {
      "name": "python3",
      "display_name": "Python 3"
    },
    "language_info": {
      "name": "python"
    }
  },
  "cells": [
    {
      "cell_type": "markdown",
      "metadata": {
        "id": "view-in-github",
        "colab_type": "text"
      },
      "source": [
        "<a href=\"https://colab.research.google.com/github/delicate99/Bioinformatics/blob/main/Covid19.ipynb\" target=\"_parent\"><img src=\"https://colab.research.google.com/assets/colab-badge.svg\" alt=\"Open In Colab\"/></a>"
      ]
    },
    {
      "cell_type": "code",
      "metadata": {
        "id": "7LQZbDHWXsIT"
      },
      "source": [
        "# ID NC_045512.2\n",
        "# https://www.ncbi.nlm.nih.gov/nuccore/NC_045512.2?report=fasta&log$=seqview"
      ],
      "execution_count": 85,
      "outputs": []
    },
    {
      "cell_type": "code",
      "metadata": {
        "colab": {
          "base_uri": "https://localhost:8080/"
        },
        "id": "5S9zz964gTBH",
        "outputId": "8338c4cc-9856-4a98-8e13-619a12e18165"
      },
      "source": [
        "pip install biopython"
      ],
      "execution_count": 86,
      "outputs": [
        {
          "output_type": "stream",
          "name": "stdout",
          "text": [
            "Requirement already satisfied: biopython in /usr/local/lib/python3.7/dist-packages (1.79)\n",
            "Requirement already satisfied: numpy in /usr/local/lib/python3.7/dist-packages (from biopython) (1.19.5)\n"
          ]
        }
      ]
    },
    {
      "cell_type": "markdown",
      "metadata": {
        "id": "4IMseJqVfQa2"
      },
      "source": [
        "## Outline\n",
        "+ Reading\n",
        "+ Sequence analysis\n",
        "+ Freq N,AA,GC,AT content\n",
        "+ Protein Synthesis\n",
        "\n",
        "\n",
        "\n",
        "\n",
        "\n",
        "\n"
      ]
    },
    {
      "cell_type": "code",
      "metadata": {
        "id": "3a9LTgebekeZ"
      },
      "source": [
        "from Bio import SeqIO"
      ],
      "execution_count": 87,
      "outputs": []
    },
    {
      "cell_type": "code",
      "metadata": {
        "id": "GoQxLG7Zekin"
      },
      "source": [
        "# reading our faste file\n",
        "covid_record =SeqIO.read(\"/content/drive/MyDrive/Bioinfo/covid19_sequence_NC_045512_2.fasta\",\"fasta\")"
      ],
      "execution_count": 88,
      "outputs": []
    },
    {
      "cell_type": "code",
      "metadata": {
        "colab": {
          "base_uri": "https://localhost:8080/"
        },
        "id": "a5l7G9lLg_ge",
        "outputId": "dc28ad7b-efca-4017-bb28-3d73c7566938"
      },
      "source": [
        "covid_record"
      ],
      "execution_count": 89,
      "outputs": [
        {
          "output_type": "execute_result",
          "data": {
            "text/plain": [
              "SeqRecord(seq=Seq('ATTAAAGGTTTATACCTTCCCAGGTAACAAACCAACCAACTTTCGATCTCTTGT...AAA'), id='NC_045512.2', name='NC_045512.2', description='NC_045512.2 Severe acute respiratory syndrome coronavirus 2 isolate Wuhan-Hu-1, complete genome', dbxrefs=[])"
            ]
          },
          "metadata": {},
          "execution_count": 89
        }
      ]
    },
    {
      "cell_type": "code",
      "metadata": {
        "id": "bQC9z4a0g_qV"
      },
      "source": [
        "# Sequence\n",
        "covid_dna=covid_record.seq"
      ],
      "execution_count": 90,
      "outputs": []
    },
    {
      "cell_type": "code",
      "metadata": {
        "colab": {
          "base_uri": "https://localhost:8080/"
        },
        "id": "Hgx1bHiFjsyP",
        "outputId": "1609d9aa-d26c-4b6c-e44d-64b33fcdd7e3"
      },
      "source": [
        "covid_dna"
      ],
      "execution_count": 91,
      "outputs": [
        {
          "output_type": "execute_result",
          "data": {
            "text/plain": [
              "Seq('ATTAAAGGTTTATACCTTCCCAGGTAACAAACCAACCAACTTTCGATCTCTTGT...AAA')"
            ]
          },
          "metadata": {},
          "execution_count": 91
        }
      ]
    },
    {
      "cell_type": "code",
      "metadata": {
        "colab": {
          "base_uri": "https://localhost:8080/"
        },
        "id": "MmbiLfbDju7t",
        "outputId": "c0d065c1-e2a5-4887-cbfe-2593fb00cf58"
      },
      "source": [
        "len(covid_dna)"
      ],
      "execution_count": 92,
      "outputs": [
        {
          "output_type": "execute_result",
          "data": {
            "text/plain": [
              "29903"
            ]
          },
          "metadata": {},
          "execution_count": 92
        }
      ]
    },
    {
      "cell_type": "code",
      "metadata": {
        "id": "XGGJ-080j3fs"
      },
      "source": [
        "# translation\n",
        "# DNA to mRNA\n",
        "covid_mrna=covid_dna.transcribe()"
      ],
      "execution_count": 93,
      "outputs": []
    },
    {
      "cell_type": "code",
      "metadata": {
        "colab": {
          "base_uri": "https://localhost:8080/"
        },
        "id": "8XS5dmVbjvUQ",
        "outputId": "ed853736-d6a6-436b-a85a-735dcfc4594f"
      },
      "source": [
        "covid_mrna"
      ],
      "execution_count": 94,
      "outputs": [
        {
          "output_type": "execute_result",
          "data": {
            "text/plain": [
              "Seq('AUUAAAGGUUUAUACCUUCCCAGGUAACAAACCAACCAACUUUCGAUCUCUUGU...AAA')"
            ]
          },
          "metadata": {},
          "execution_count": 94
        }
      ]
    },
    {
      "cell_type": "code",
      "metadata": {
        "colab": {
          "base_uri": "https://localhost:8080/"
        },
        "id": "gmmP_ZZvg_tf",
        "outputId": "4c1dbd2d-3883-4e79-89ea-7a317e97160d"
      },
      "source": [
        "#Translation (mRNA to Protein)\n",
        "covid_protein =covid_mrna.translate()"
      ],
      "execution_count": 95,
      "outputs": [
        {
          "output_type": "stream",
          "name": "stderr",
          "text": [
            "/usr/local/lib/python3.7/dist-packages/Bio/Seq.py:2983: BiopythonWarning: Partial codon, len(sequence) not a multiple of three. Explicitly trim the sequence or add trailing N before translation. This may become an error in future.\n",
            "  BiopythonWarning,\n"
          ]
        }
      ]
    },
    {
      "cell_type": "code",
      "metadata": {
        "colab": {
          "base_uri": "https://localhost:8080/"
        },
        "id": "7HL1uTmjkhyg",
        "outputId": "f245c6ea-e242-44d6-ad45-f4ffa244e650"
      },
      "source": [
        "# covid_protein with AA\n",
        "covid_protein"
      ],
      "execution_count": 96,
      "outputs": [
        {
          "output_type": "execute_result",
          "data": {
            "text/plain": [
              "Seq('IKGLYLPR*QTNQLSISCRSVL*TNFKICVAVTRLHA*CTHAV*LITNYCR*QD...KKK')"
            ]
          },
          "metadata": {},
          "execution_count": 96
        }
      ]
    },
    {
      "cell_type": "markdown",
      "metadata": {
        "id": "GcNW48QDlD2x"
      },
      "source": [
        "## Sequence Analysis\n",
        "+ freq of N Bases and Amino Acid\n",
        "###Check for the N or bases"
      ]
    },
    {
      "cell_type": "code",
      "metadata": {
        "id": "pk_OxreUk1mx"
      },
      "source": [
        "from collections import Counter"
      ],
      "execution_count": 97,
      "outputs": []
    },
    {
      "cell_type": "code",
      "metadata": {
        "id": "iNkXNI6Flzx-"
      },
      "source": [
        "#Freq\n",
        "covid_ncount=Counter(covid_dna)"
      ],
      "execution_count": 98,
      "outputs": []
    },
    {
      "cell_type": "code",
      "metadata": {
        "colab": {
          "base_uri": "https://localhost:8080/"
        },
        "id": "DQ9lr6yelz9v",
        "outputId": "8459827b-5aa5-49b8-baf4-6ebf1764e222"
      },
      "source": [
        "covid_ncount"
      ],
      "execution_count": 99,
      "outputs": [
        {
          "output_type": "execute_result",
          "data": {
            "text/plain": [
              "Counter({'A': 8954, 'C': 5492, 'G': 5863, 'T': 9594})"
            ]
          },
          "metadata": {},
          "execution_count": 99
        }
      ]
    },
    {
      "cell_type": "code",
      "metadata": {
        "id": "Dx3JPELamD1l"
      },
      "source": [
        "# plot\n",
        "import matplotlib.pyplot as plt"
      ],
      "execution_count": 100,
      "outputs": []
    },
    {
      "cell_type": "code",
      "metadata": {
        "colab": {
          "base_uri": "https://localhost:8080/",
          "height": 285
        },
        "id": "awraztXlmESx",
        "outputId": "c32b277c-20a7-4753-81e9-47f43f3df97c"
      },
      "source": [
        "plt.bar(covid_ncount.keys(), covid_ncount.values())"
      ],
      "execution_count": 101,
      "outputs": [
        {
          "output_type": "execute_result",
          "data": {
            "text/plain": [
              "<BarContainer object of 4 artists>"
            ]
          },
          "metadata": {},
          "execution_count": 101
        },
        {
          "output_type": "display_data",
          "data": {
            "image/png": "[encoded data removed]",
            "text/plain": [
              "<Figure size 432x288 with 1 Axes>"
            ]
          },
          "metadata": {
            "needs_background": "light"
          }
        }
      ]
    },
    {
      "cell_type": "code",
      "metadata": {
        "id": "aqdQ3JeQl0BK"
      },
      "source": [
        "#Moleculat weight\n",
        "from Bio.SeqUtils import molecular_weight"
      ],
      "execution_count": 102,
      "outputs": []
    },
    {
      "cell_type": "code",
      "metadata": {
        "colab": {
          "base_uri": "https://localhost:8080/"
        },
        "id": "QvsisxgnmmFw",
        "outputId": "1e7641ad-a0c3-4f0f-9e98-065fd263ede8"
      },
      "source": [
        "# if the dna have \"N\" - covid_dna.strip(\"N\")\n",
        "# str(covid_dna).replae(\"N\",'')\n",
        "molecular_weight(covid_dna)"
      ],
      "execution_count": 103,
      "outputs": [
        {
          "output_type": "execute_result",
          "data": {
            "text/plain": [
              "9241219.214400413"
            ]
          },
          "metadata": {},
          "execution_count": 103
        }
      ]
    },
    {
      "cell_type": "code",
      "metadata": {
        "colab": {
          "base_uri": "https://localhost:8080/"
        },
        "id": "rra0kmfCmmKX",
        "outputId": "fc822cca-1dfb-47cb-b6b5-68a1ff61c0e0"
      },
      "source": [
        "'N'in covid_dna.strip('N')"
      ],
      "execution_count": 104,
      "outputs": [
        {
          "output_type": "execute_result",
          "data": {
            "text/plain": [
              "False"
            ]
          },
          "metadata": {},
          "execution_count": 104
        }
      ]
    },
    {
      "cell_type": "markdown",
      "metadata": {
        "id": "bY17lCzcq-b6"
      },
      "source": [
        "## DNA Composition\n",
        "+ GC contents\n",
        "+ AC contents"
      ]
    },
    {
      "cell_type": "code",
      "metadata": {
        "id": "AwLbREqqmmWu"
      },
      "source": [
        "from Bio.SeqUtils import GC,GC123,GC_skew"
      ],
      "execution_count": 105,
      "outputs": []
    },
    {
      "cell_type": "code",
      "metadata": {
        "colab": {
          "base_uri": "https://localhost:8080/"
        },
        "id": "-5ye77fLqeUY",
        "outputId": "51ef31ef-1d41-4f79-d4c9-667103b674ee"
      },
      "source": [
        "GC(covid_dna)"
      ],
      "execution_count": 106,
      "outputs": [
        {
          "output_type": "execute_result",
          "data": {
            "text/plain": [
              "37.97277865097148"
            ]
          },
          "metadata": {},
          "execution_count": 106
        }
      ]
    },
    {
      "cell_type": "code",
      "metadata": {
        "id": "pbuLStoxqejb"
      },
      "source": [
        "def at_content(seq):\n",
        "    result=float(seq.count('A')+seq.count('T'))/len(seq)*100\n",
        "    return result"
      ],
      "execution_count": 107,
      "outputs": []
    },
    {
      "cell_type": "code",
      "metadata": {
        "colab": {
          "base_uri": "https://localhost:8080/"
        },
        "id": "Js7HqagFrY5p",
        "outputId": "22c34e82-181e-4211-b801-0055aba97019"
      },
      "source": [
        "at_content(covid_dna)"
      ],
      "execution_count": 108,
      "outputs": [
        {
          "output_type": "execute_result",
          "data": {
            "text/plain": [
              "62.02722134902853"
            ]
          },
          "metadata": {},
          "execution_count": 108
        }
      ]
    },
    {
      "cell_type": "code",
      "metadata": {
        "id": "waoY9tlAr6vq"
      },
      "source": [
        "# GC skew\n",
        "# Lagging or leading strans\n",
        "#GC_skew(covid_dna)"
      ],
      "execution_count": 109,
      "outputs": []
    },
    {
      "cell_type": "code",
      "metadata": {
        "id": "3R0NJbNtsalj"
      },
      "source": [
        "from Bio.SeqUtils import MeltingTemp as mt"
      ],
      "execution_count": 110,
      "outputs": []
    },
    {
      "cell_type": "code",
      "metadata": {
        "colab": {
          "base_uri": "https://localhost:8080/"
        },
        "id": "yGrJ8zQBsrcp",
        "outputId": "1ebf27a9-4856-46b2-cf88-c8036c811a91"
      },
      "source": [
        "mt.Tm_GC(covid_dna, strict=False)"
      ],
      "execution_count": 111,
      "outputs": [
        {
          "output_type": "execute_result",
          "data": {
            "text/plain": [
              "75.20366663587967"
            ]
          },
          "metadata": {},
          "execution_count": 111
        }
      ]
    },
    {
      "cell_type": "code",
      "metadata": {
        "id": "2UF2CfQctIr9"
      },
      "source": [
        "# Number of Amino Acids\n",
        "covid_pr_feq=Counter(covid_protein)"
      ],
      "execution_count": 112,
      "outputs": []
    },
    {
      "cell_type": "code",
      "metadata": {
        "colab": {
          "base_uri": "https://localhost:8080/",
          "height": 282
        },
        "id": "MRMizg7xtf1Y",
        "outputId": "e9877234-bf4e-40d0-ecfa-6c26b6061d51"
      },
      "source": [
        "plt.bar(covid_pr_feq.keys(), covid_pr_feq.values())"
      ],
      "execution_count": 113,
      "outputs": [
        {
          "output_type": "execute_result",
          "data": {
            "text/plain": [
              "<BarContainer object of 21 artists>"
            ]
          },
          "metadata": {},
          "execution_count": 113
        },
        {
          "output_type": "display_data",
          "data": {
            "image/png": "[encoded data removed]",
            "text/plain": [
              "<Figure size 432x288 with 1 Axes>"
            ]
          },
          "metadata": {
            "needs_background": "light"
          }
        }
      ]
    },
    {
      "cell_type": "code",
      "metadata": {
        "colab": {
          "base_uri": "https://localhost:8080/"
        },
        "id": "vyF5obG4tzCr",
        "outputId": "c4948e7b-976e-4286-f3a1-fe315be90b7e"
      },
      "source": [
        "Counter(covid_protein).most_common(5)"
      ],
      "execution_count": 114,
      "outputs": [
        {
          "output_type": "execute_result",
          "data": {
            "text/plain": [
              "[('L', 886), ('S', 810), ('*', 774), ('T', 679), ('C', 635)]"
            ]
          },
          "metadata": {},
          "execution_count": 114
        }
      ]
    },
    {
      "cell_type": "code",
      "metadata": {
        "id": "W0SzTucPuJiS"
      },
      "source": [
        "# Longest seq AA before stop coden\n",
        "covid_clean=covid_protein.split(\"*\")"
      ],
      "execution_count": 115,
      "outputs": []
    },
    {
      "cell_type": "code",
      "metadata": {
        "id": "gK49XJt-uaQM"
      },
      "source": [
        "covid_clean=[str(i) for i in covid_clean]"
      ],
      "execution_count": 116,
      "outputs": []
    },
    {
      "cell_type": "code",
      "metadata": {
        "colab": {
          "base_uri": "https://localhost:8080/"
        },
        "id": "TohJl6jzuoYu",
        "outputId": "b07a4c17-aaa1-4985-9e8c-58cfa551ee81"
      },
      "source": [
        "covid_clean"
      ],
      "execution_count": 117,
      "outputs": [
        {
          "output_type": "execute_result",
          "data": {
            "text/plain": [
              "['IKGLYLPR',\n",
              " 'QTNQLSISCRSVL',\n",
              " 'TNFKICVAVTRLHA',\n",
              " 'CTHAV',\n",
              " 'LITNYCR',\n",
              " 'QDTSNSSIFCRLLTVSSVLQPIISTSRFRPGVTER',\n",
              " 'DGEPCPWFQRENTRPTQFACFTGSRRARTWLWRLRGGGLIRGTSTS',\n",
              " 'RWHLWLSRS',\n",
              " 'KRRFAST',\n",
              " 'TALCVHQTFGCSNCTSWSCYG',\n",
              " 'AGSRTRRHSVRS',\n",
              " 'W',\n",
              " 'DTWCPCPSCGRNTSGLPQGSSS',\n",
              " 'ER',\n",
              " '',\n",
              " 'RSWWP',\n",
              " 'LRRRSKVI',\n",
              " 'LRRRAWH',\n",
              " 'SL',\n",
              " 'RFSRKLEH',\n",
              " 'T',\n",
              " 'QWCYP',\n",
              " 'THA',\n",
              " 'A',\n",
              " 'RRGIHSLCR',\n",
              " 'QLLWP',\n",
              " 'WLPS',\n",
              " 'VH',\n",
              " 'RPSSTCW',\n",
              " 'SFMHFVRTTGLY',\n",
              " 'H',\n",
              " 'EGCILLP',\n",
              " 'T',\n",
              " 'A',\n",
              " 'NCLVHGTF',\n",
              " 'KEL',\n",
              " 'IADTF',\n",
              " 'N',\n",
              " 'IGKEI',\n",
              " 'HLQWGMSKFCISLKFHNQDYSTKG',\n",
              " 'KEKA',\n",
              " 'WLYG',\n",
              " 'NSICLSSCVTK',\n",
              " 'MQPNVPFNSHEV',\n",
              " 'SLW',\n",
              " 'NFMADGRFC',\n",
              " 'SHLRILWH',\n",
              " 'EFD',\n",
              " 'RRCHYLWLLTPKCCC',\n",
              " 'NLLSSMSQFRSRT',\n",
              " 'A',\n",
              " 'SCRIP',\n",
              " '',\n",
              " 'IWLENHSS',\n",
              " 'GWSHYCLWRLCVLLCWLP',\n",
              " 'QVCLLGSTC',\n",
              " 'R',\n",
              " 'HRL',\n",
              " 'PYRCCWRRFRRS',\n",
              " '',\n",
              " 'QPS',\n",
              " 'NTPKRESQHQYCW',\n",
              " 'L',\n",
              " 'T',\n",
              " '',\n",
              " 'RDRHYFGIFFCFHKCFCGNCERFGL',\n",
              " 'SIQTNC',\n",
              " 'ILW',\n",
              " 'F',\n",
              " 'SYKRKS',\n",
              " 'KRCLEYW',\n",
              " 'TEINTESSLCICIRGCSCCTINFLPHS',\n",
              " 'NCSKFCACFTEGRYNNTRWNFTVFTETH',\n",
              " 'CYDVHI',\n",
              " 'FGY',\n",
              " 'QSSCNGLHYRWCCSVDFAVAN',\n",
              " 'HLWHCL',\n",
              " 'KTQTRP',\n",
              " 'LA',\n",
              " 'REV',\n",
              " 'GRCRVS',\n",
              " 'RRLGNC',\n",
              " 'IYLNLCL',\n",
              " 'NCRWTNCHLCKGN',\n",
              " 'GECSDIL',\n",
              " 'ACK',\n",
              " 'IFGFVC',\n",
              " 'LYHYWWS',\n",
              " 'T',\n",
              " 'SLEFR',\n",
              " 'NICHALKGIVQKVC',\n",
              " 'IQRRNWPTHASKSPKRNYLLRGRNTSHRSVNRGSCLENW',\n",
              " 'FTTIRTTY',\n",
              " '',\n",
              " 'SC',\n",
              " 'SSIGWYTSLY',\n",
              " 'RAYVARNQRHRKVLCPCT',\n",
              " 'YDGNKQYLHTQRRCTNKGYFW',\n",
              " '',\n",
              " 'HCDRSARLQECEYHF',\n",
              " 'T',\n",
              " '',\n",
              " 'KD',\n",
              " '',\n",
              " 'ST',\n",
              " '',\n",
              " 'EVLCLYS',\n",
              " 'TRYRSK',\n",
              " 'VRLCCGRCCHKNFATSI',\n",
              " 'ITYTTGH',\n",
              " 'FR',\n",
              " 'VEYGYILLI',\n",
              " '',\n",
              " 'VW',\n",
              " 'V',\n",
              " 'IGFTYVLFFLPSR',\n",
              " 'G',\n",
              " 'RRR',\n",
              " 'L',\n",
              " 'RRRV',\n",
              " 'AINSI',\n",
              " 'VWY',\n",
              " 'R',\n",
              " 'LPR',\n",
              " 'TFGIWCHFCCSST',\n",
              " 'RRARRRLVR',\n",
              " '',\n",
              " '',\n",
              " 'STNCWSTRRQ',\n",
              " 'GQSDNYYSNNC',\n",
              " 'GSTSIRDGTYTSCSDY',\n",
              " 'SE',\n",
              " 'F',\n",
              " 'WLFKTY',\n",
              " 'QCIH',\n",
              " 'KCRHCGRS',\n",
              " 'KGKTNSGC',\n",
              " 'CSQCLP',\n",
              " 'TWRRCCRSLK',\n",
              " 'GY',\n",
              " 'QCHAS',\n",
              " 'I',\n",
              " '',\n",
              " 'LHSY',\n",
              " 'WTT',\n",
              " 'SGW',\n",
              " 'LCFKRTQSC',\n",
              " 'TLSSCCRPKC',\n",
              " 'QR',\n",
              " 'RHSTS',\n",
              " 'ECL',\n",
              " 'KF',\n",
              " 'SARSSTCTIIISWYFWC',\n",
              " 'PYTFFKSLCRYCSHKCLLSCL',\n",
              " '',\n",
              " 'KSL',\n",
              " 'QTCFKLFGNEE',\n",
              " 'KAS',\n",
              " 'TKDR',\n",
              " 'DS',\n",
              " 'RGS',\n",
              " 'AIYN',\n",
              " 'K',\n",
              " 'TFS',\n",
              " 'TEKTR',\n",
              " '',\n",
              " 'ENQSLC',\n",
              " 'RSYNNSGRN',\n",
              " 'VPHRKLVTLY',\n",
              " 'H',\n",
              " 'WQSSSRFCHSC',\n",
              " '',\n",
              " 'H',\n",
              " 'HHFLKERCSIYSG',\n",
              " 'CCSRGCFNCCGYTY',\n",
              " 'KGWWHY',\n",
              " 'NASESFEKSANRQLYNHLPGSGFKWLHCRGGKDSA',\n",
              " 'KV',\n",
              " 'KCLLHSTIYYL',\n",
              " '',\n",
              " 'EARNSWNCFLEFARNACTCRRNTQINACLCGN',\n",
              " 'SHSFNYTA',\n",
              " 'I',\n",
              " 'GY',\n",
              " 'NTRGCG',\n",
              " 'LWC',\n",
              " 'ILLLHQ',\n",
              " 'NNCSVTYQHT',\n",
              " 'RSK',\n",
              " 'NSCYNATWLCNTWLKFGRSCSVYEISQSASYSFCFFT',\n",
              " 'CCYSV',\n",
              " 'WLSYFFF',\n",
              " 'NT',\n",
              " 'RTFY',\n",
              " 'NHLTCWFL',\n",
              " 'RLVLFWTIYTTRYRIS',\n",
              " 'ER',\n",
              " '',\n",
              " 'KCILH',\n",
              " '',\n",
              " 'SYHIPPRW',\n",
              " 'SYHL',\n",
              " 'QS',\n",
              " 'DTSFFERSEDY',\n",
              " 'GVYNSRQH',\n",
              " 'PPHASCGHVNDIWTTVWSNLFGWS',\n",
              " 'CY',\n",
              " 'NKTS',\n",
              " 'FT',\n",
              " 'R',\n",
              " 'NILCFT',\n",
              " '',\n",
              " '',\n",
              " 'HSTC',\n",
              " 'GF',\n",
              " 'VLPHN',\n",
              " 'S',\n",
              " 'FSG',\n",
              " 'VHVSIKSH',\n",
              " 'KVEIPTS',\n",
              " 'WFNFY',\n",
              " 'MGR',\n",
              " 'QLLSCHCIVNTPTNRVEV',\n",
              " 'STCSTRCLLQSKGW',\n",
              " 'SC',\n",
              " 'LLCTYLSLL',\n",
              " '',\n",
              " 'DSR',\n",
              " 'VR',\n",
              " 'C',\n",
              " 'RNNELLVSTCQFRFLQKSLERGV',\n",
              " 'NLWTTADNP',\n",
              " 'GCRSCYVHGHTFL',\n",
              " 'TI',\n",
              " 'ERCSDTLYVW',\n",
              " 'TSYKISSTTGVTFCYDVSTTCSV',\n",
              " 'T',\n",
              " 'AWYIYLC',\n",
              " '',\n",
              " 'VHW',\n",
              " 'LPVWSL',\n",
              " 'TYNF',\n",
              " 'RNFVLHRRCFTYKVLRIQRSYYGCFLQRKQLHNNHKTSYL',\n",
              " 'IGWCCLYRN',\n",
              " 'P',\n",
              " 'VGQLL',\n",
              " 'ERQFLFHRATN',\n",
              " 'SCTKPTISKRKLR',\n",
              " 'F',\n",
              " 'VCM',\n",
              " '',\n",
              " 'YQIC',\n",
              " '',\n",
              " 'FKPVNWL',\n",
              " 'ETCFKRA',\n",
              " 'SYIFP',\n",
              " 'LKW',\n",
              " 'CGGY',\n",
              " 'L',\n",
              " 'TLHTLF',\n",
              " 'ERS',\n",
              " 'IVT',\n",
              " 'TYCLAC',\n",
              " 'QCN',\n",
              " '',\n",
              " 'SHV',\n",
              " 'TKYLVYTLSLEHKTS',\n",
              " 'NIKFV',\n",
              " 'CTEVRGRAGNG',\n",
              " 'SCLRRSKTSL',\n",
              " 'RSSGKSYHTERRS',\n",
              " 'V',\n",
              " 'CENYRSCRRHYT',\n",
              " 'TSK',\n",
              " '',\n",
              " 'FKNYRRGWPHRSNGCLCRQF',\n",
              " 'SYY',\n",
              " 'ET',\n",
              " '',\n",
              " 'II',\n",
              " 'SIRFENPCYSWFSCC',\n",
              " '',\n",
              " 'CPLGYYS',\n",
              " 'LC',\n",
              " 'AFS',\n",
              " 'QSC',\n",
              " 'YNY',\n",
              " 'HSYTVFKPCLY',\n",
              " 'LYALFLYFIATIVYFY',\n",
              " 'KYKF',\n",
              " 'N',\n",
              " 'SIYADYYSKEYC',\n",
              " 'ECR',\n",
              " 'ILSRGFI',\n",
              " 'LFEVT',\n",
              " 'FF',\n",
              " 'TDKYYNLVFTIKCLPRFFNLLNRCFRCFNV',\n",
              " 'FRHAFLLYWLQRRLFELY',\n",
              " 'CHYCNLLYWFYTL',\n",
              " 'CLS',\n",
              " 'WFRFFRHLSFFRNYTNYHFIF',\n",
              " 'MGFNCFWLSCRVVFGIYSFH',\n",
              " 'VFLCTWIGCNHAIVFQLFCSTFY',\n",
              " '',\n",
              " 'FLAYVVNN',\n",
              " 'SCTNGPDFSYG',\n",
              " 'NVHLLCIILLCMEKLCACCRRL',\n",
              " 'FINLYDVLQT',\n",
              " '',\n",
              " 'SNKSRMYNYC',\n",
              " 'WC',\n",
              " 'KVLLCLC',\n",
              " 'WR',\n",
              " 'RLLQTTQLELC',\n",
              " 'L',\n",
              " 'YILCW',\n",
              " 'YIY',\n",
              " '',\n",
              " '',\n",
              " 'SCERLVTTV',\n",
              " 'KTNKSY',\n",
              " 'PVFLHR',\n",
              " '',\n",
              " 'CYSEEWFHPSLL',\n",
              " '',\n",
              " 'SWSKDL',\n",
              " 'KTFSLSFC',\n",
              " 'LRQPES',\n",
              " '',\n",
              " 'H',\n",
              " 'RFIAY',\n",
              " 'CYSF',\n",
              " 'W',\n",
              " 'IKM',\n",
              " 'RIICKISVCLLQSAYVSTYTVTRSGISV',\n",
              " 'CW',\n",
              " '',\n",
              " 'CGSCS',\n",
              " 'NV',\n",
              " 'CLR',\n",
              " 'YVFINF',\n",
              " 'RTNGKTQNTSCNCRS',\n",
              " 'TCKECVLRQCLIYFYFSSSARVC',\n",
              " 'FRCRN',\n",
              " 'RCC',\n",
              " 'MS',\n",
              " 'IVTSI',\n",
              " 'HRSYWR',\n",
              " 'L',\n",
              " '',\n",
              " 'LYAHL',\n",
              " 'QS',\n",
              " 'KHDTP',\n",
              " 'PWCLY',\n",
              " 'L',\n",
              " 'CASY',\n",
              " 'CAGSKKSQHCFDMER',\n",
              " 'RFHVIV',\n",
              " 'TTTKTNT',\n",
              " 'CC',\n",
              " 'KE',\n",
              " 'LTF',\n",
              " 'VDMCNY',\n",
              " 'TSC',\n",
              " 'CCNNKDST',\n",
              " 'GW',\n",
              " 'NC',\n",
              " '',\n",
              " 'LVEAVN',\n",
              " 'SYTCVPFCCCYFLFNNTCSCHV',\n",
              " 'TY',\n",
              " 'LFK',\n",
              " 'NHRIQGY',\n",
              " 'WWCHS',\n",
              " 'HSIYRYLFC',\n",
              " 'QTC',\n",
              " 'F',\n",
              " 'HMV',\n",
              " 'PAWW',\n",
              " 'LY',\n",
              " '',\n",
              " 'QSLPIDCCSHNKRSGFCRAWFAWHDITHN',\n",
              " 'W',\n",
              " 'LFAFLT',\n",
              " 'SF',\n",
              " 'CSW',\n",
              " 'HLLHTIKTYRVH',\n",
              " 'LCNISLCFGC',\n",
              " 'MYNF',\n",
              " 'RCFW',\n",
              " 'ASTILL',\n",
              " 'YQCTRRFCCL',\n",
              " 'KFTP',\n",
              " 'HTLCAHGWLYYSIS',\n",
              " 'HLP',\n",
              " 'RFC',\n",
              " 'SGNNF',\n",
              " 'F',\n",
              " 'VL',\n",
              " 'ARHL',\n",
              " 'KIRSWCLCIY',\n",
              " 'W',\n",
              " 'MGT',\n",
              " 'Q',\n",
              " 'LLQIFTRSFLWCRCCKFTY',\n",
              " 'YVYTTNSTYWCFGHISIYSSWWYCSYRSNMPCLLFYEV',\n",
              " 'KSFW',\n",
              " 'IQSCSCL',\n",
              " 'YFTIPYVIHCTLFNTSLLILTWCLFCYLLVLDILSY',\n",
              " '',\n",
              " 'CFFFSTYSVDGYVHTFSTFLDNNCLYHLYFHKAFLLVL',\n",
              " '',\n",
              " 'LPKETCSL',\n",
              " 'WCFL',\n",
              " 'YF',\n",
              " 'RSCAVHLFVK',\n",
              " 'RNVSKVA',\n",
              " '',\n",
              " 'CAITSYAI',\n",
              " '',\n",
              " 'ILSSL',\n",
              " '',\n",
              " 'VQVF',\n",
              " 'WSNGYN',\n",
              " 'LQRSCLLSSRKGSQ',\n",
              " 'LQ',\n",
              " 'LRF',\n",
              " 'CSLPTTTNLYHLSCFAEWF',\n",
              " 'KNGIPIW',\n",
              " 'S',\n",
              " 'GLYGTSNLWYNYT',\n",
              " 'RSLA',\n",
              " '',\n",
              " 'RSLLSKTCDLHL',\n",
              " 'RHA',\n",
              " 'P',\n",
              " 'L',\n",
              " 'RFTHS',\n",
              " 'V',\n",
              " 'S',\n",
              " 'FLGTGW',\n",
              " 'CSTQGYWTFYAKLCT',\n",
              " 'A',\n",
              " 'G',\n",
              " 'YSQS',\n",
              " 'DT',\n",
              " 'V',\n",
              " 'VCSHSTRTDFFSVSLLQWFTIWCLPMCYEAQFHY',\n",
              " 'GFIP',\n",
              " 'WFMW',\n",
              " 'CWF',\n",
              " 'HRL',\n",
              " 'LCLFLLHAPYGITNWSSCWHRLRR',\n",
              " 'LLWTFC',\n",
              " 'QANSTSSWYGHNYYS',\n",
              " 'CFSLVVRCCYKWRQVVSQSIYHNS',\n",
              " '',\n",
              " 'L',\n",
              " 'PCGYEVQL',\n",
              " 'TSNTRPC',\n",
              " 'HTRTSFCSNWNCRFRYVCFIKRITAKWYEWTYHIG',\n",
              " 'CFIRR',\n",
              " 'IYTF',\n",
              " 'CC',\n",
              " 'TMLRCYFPKCSEKNNQGYTPLVVTHNFDFTFSFSPEYSMVFVLFFV',\n",
              " 'KCLFTFCYGYYCYVCFCNDVCQT',\n",
              " 'ACISLFVFVTFSCHCSLF',\n",
              " 'YGLYAC',\n",
              " 'LGDAYYDMVGYG',\n",
              " 'Y',\n",
              " 'FVWF',\n",
              " 'AKRLCYVCISCSVTNPYDSKNCV',\n",
              " '',\n",
              " 'WC',\n",
              " 'ESVDTYECLDTRL',\n",
              " 'SLLW',\n",
              " 'CFRSSHFHVGSYNLCYF',\n",
              " 'LLRCSYNCHVFGQRYCFYVC',\n",
              " 'VLPYFLHNW',\n",
              " 'YTSVYNASLLFLRLFLYLLLWPLLFTQPLL',\n",
              " 'TDSWCL',\n",
              " 'LLSFYTGV',\n",
              " 'IYEFTGTTPTQE',\n",
              " 'HRCLQTQH',\n",
              " 'IVGCWWQTLYQSSHCTV',\n",
              " 'NVRCKVHISSLTLSFATTQSRIII',\n",
              " 'IVGSMCPVTQ',\n",
              " 'HSLS',\n",
              " 'RYY',\n",
              " 'SL',\n",
              " 'KNGFTTFCFAFHAGCCRHKQAL',\n",
              " 'RNAGQQGNLTSYSLRV',\n",
              " 'FPSIICSFCYCSRSL',\n",
              " 'AGCC',\n",
              " 'W',\n",
              " 'F',\n",
              " 'SCS',\n",
              " 'KVEEVFECG',\n",
              " 'I',\n",
              " 'I',\n",
              " 'P',\n",
              " 'CSHAT',\n",
              " 'VGKDG',\n",
              " 'SSYDPNV',\n",
              " 'TG',\n",
              " 'I',\n",
              " 'GQEGKSY',\n",
              " 'CYADNAFHYA',\n",
              " 'KVG',\n",
              " '',\n",
              " 'CTQQHYQQCKRWLCSLEHNTSYNSSQTNGCHTRL',\n",
              " 'HI',\n",
              " 'KYV',\n",
              " 'WYNIYLCISIVGNPTGCRCR',\n",
              " '',\n",
              " 'NCST',\n",
              " '',\n",
              " 'N',\n",
              " 'YGQFT',\n",
              " 'FSMASYCNSFKGQFCCQITE',\n",
              " '',\n",
              " 'A',\n",
              " 'SCCTTTDVLCCRYYTNCLH',\n",
              " '',\n",
              " 'QCVSLLQHNKGR',\n",
              " 'VCTCTVIRFTGFEMG',\n",
              " 'IP',\n",
              " 'E',\n",
              " 'WNWYYLYRTGTTL',\n",
              " 'VCYRHT',\n",
              " 'RS',\n",
              " 'SEVFILY',\n",
              " 'RIKQPK',\n",
              " 'RYGTW',\n",
              " 'FSCHSTSTSW',\n",
              " 'CNRSACQFNCIIFLCFCCRCC',\n",
              " 'SLQRLSS',\n",
              " 'WGTTNH',\n",
              " 'LC',\n",
              " 'DVVYTHWYWSGNNSYTGSQYGSRILWWCIVLSVLPLPHRSSKS',\n",
              " 'RIL',\n",
              " 'LKR',\n",
              " 'VCTNTYNLC',\n",
              " '',\n",
              " 'PCGFYT',\n",
              " 'KHSLYRLRYVERLWL',\n",
              " 'L',\n",
              " 'STPRTHASVS',\n",
              " 'CTIVFKRVCGVSAARLTPCGTGTSTDVVYRAFDIYNDKVAGFAKFLKTNCCRFQEKDEDDNLIDSYFVVKRHTFSNYQHEETIYNLLKDCPAVAKHDFFKFRIDGDMVPHISRQRLTKYTMADLVYALRHFDEGNCDTLKEILVTYNCCDDDYFNKKDWYDFVENPDILRVYANLGERVRQALLKTVQFCDAMRNAGIVGVLTLDNQDLNGNWYDFGDFIQTTPGSGVPVVDSYYSLLMPILTLTRALTAESHVDTDLTKPYIKWDLLKYDFTEERLKLFDRYFKYWDQTYHPNCVNCLDDRCILHCANFNVLFSTVFPPTSFGPLVRKIFVDGVPFVVSTGYHFRELGVVHNQDVNLHSSRLSFKELLVYAADPAMHAASGNLLLDKRTTCFSVAALTNNVAFQTVKPGNFNKDFYDFAVSKGFFKEGSSVELKHFFFAQDGNAAISDYDYYRYNLPTMCDIRQLLFVVEVVDKYFDCYDGGCINANQVIVNNLDKSAGFPFNKWGKARLYYDSMSYEDQDALFAYTKRNVIPTITQMNLKYAISAKNRARTVAGVSICSTMTNRQFHQKLLKSIAATRGATVVIGTSKFYGGWHNMLKTVYSDVENPHLMGWDYPKCDRAMPNMLRIMASLVLARKHTTCCSLSHRFYRLANECAQVLSEMVMCGGSLYVKPGGTSSGDATTAYANSVFNICQAVTANVNALLSTDGNKIADKYVRNLQHRLYECLYRNRDVDTDFVNEFYAYLRKHFSMMILSDDAVVCFNSTYASQGLVASIKNFKSVLYYQNNVFMSEAKCWTETDLTKGPHEFCSQHTMLVKQGDDYVYLPYPDPSRILGAGCFVDDIVKTDGTLMIERFVSLAIDAYPLTKHPNQEYADVFHLYLQYIRKLHDELTGHMLDMYSVMLTNDNTSRYWEPEFYEAMYTPHTVLQAVGACVLCNSQTSLRCGACIRRPFLCCKCCYDHVISTSHKLVLSVNPYVCNAPGCDVTDVTQLYLGGMSYYCKSHKPPISFPLCANGQVFGLYKNTCVGSDNVTDFNAIATCDWTNAGDYILANTCTERLKLFAAETLKATEETFKLSYGIATVREVLSDRELHLSWEVGKPRPPLNRNYVFTGYRVTKNSKVQIGEYTFEKGDYGDAVVYRGTTTYKLNVGDYFVLTSHTVMPLSAPTLVPQEHYVRITGLYPTLNISDEFSSNVANYQKVGMQKYSTLQGPPGTGKSHFAIGLALYYPSARIVYTACSHAAVDALCEKALKYLPIDKCSRIIPARARVECFDKFKVNSTLEQYVFCTVNALPETTADIVVFDEISMATNYDLSVVNARLRAKHYVYIGDPAQLPAPRTLLTKGTLEPEYFNSVCRLMKTIGPDMFLGTCRRCPAEIVDTVSALVYDNKLKAHKDKSAQCFKMFYKGVITHDVSSAINRPQIGVVREFLTRNPAWRKAVFISPYNSQNAVASKILGLPTQTVDSSQGSEYDYVIFTQTTETAHSCNVNRFNVAITRAKVGILCIMSDRDLYDKLQFTSLEIPRRNVATLQAENVTGLFKDCSKVITGLHPTQAPTHLSVDTKFKTEGLCVDIPGIPKDMTYRRLISMMGFKMNYQVNGYPNMFITREEAIRHVRAWIGFDVEGCHATREAVGTNLPLQLGFSTGVNLVAVPTGYVDTPNNTDFSRVSAKPPPGDQFKHLIPLMYKGLPWNVVRIKIVQMLSDTLKNLSDRVVFVLWAHGFELTSMKYFVKIGPERTCCLCDRRATCFSTASDTYACWHHSIGFDYVYNPFMIDVQQWGFTGNLQSNHDLYCQVHGNAHVASCDAIMTRCLAVHECFVKRVDWTIEYPIIGDELKINAACRKVQHMVVKAALLADKFPVLHDIGNPKAIKCVPQADVEWKFYDAQPCSDKAYKIEELFYSYATHSDKFTDGVCLFWNCNVDRYPANSIVCRFDTRVLSNLNLPGCDGGSLYVNKHAFHTPAFDKSAFVNLKQLPFFYYSDSPCESHGKQVVSDIDYVPLKSATCITRCNLGGAVCRHHANEYRLYLDAYNMMISAGFSLWVYKQFDTYNLWNTFTRLQSLENVAFNVVNKGHFDGQQGEVPVSIINNTVYTKVDGVDVELFENKTTLPVNVAFELWAKRNIKPVPEVKILNNLGVDIAANTVIWDYKRDAPAHISTIGVCSMTDIAKKPTETICAPLTVFFDGRVDGQVDLFRNARNGVLITEGSVKGLQPSVGPKQASLNGVTLIGEAVKTQFNYYKKVDGVVQQLPETYFTQSRNLQEFKPRSQMEIDFLELAMDEFIERYKLEGYAFEHIVYGDFSHSQLGGLHLLIGLAKRFKESPFELEDFIPMDSTVKNYFITDAQTGSSKCVCSVIDLLLDDFVEIIKSQDLSVVSKVVKVTIDYTEISFMLWCKDGHVETFYPKLQSSQAWQPGVAMPNLYKMQRMLLEKCDLQNYGDSATLPKGIMMNVAKYTQLCQYLNTLTLAVPYNMRVIHFGAGSDKGVAPGTAVLRQWLPTGTLLVDSDLNDFVSDADSTLIGDCATVHTANKWDLIISDMYDPKTKNVTKENDSKEGFFTYICGFIQQKLALGGSVAIKITEHSWNADLYKLMGHFAWWTAFVTNVNASSSEAFLIGCNYLGKPREQIDGYVMHANYIFWRNTNPIQLSSYSLFDMSKFPLKLRGTAVMSLKEGQINDMILSLLSKGRLIIRENNRVVISSDVLVNN',\n",
              " 'TNNVCFSCFIATSL',\n",
              " 'SVC',\n",
              " 'SYNQNSITPCIH',\n",
              " 'FFHTWCLLP',\n",
              " 'QSFQILSFTFNSGLVLTFLFQCYLVPCYTCLWDQWY',\n",
              " 'EV',\n",
              " '',\n",
              " 'PCPTI',\n",
              " '',\n",
              " 'WCLFCFH',\n",
              " 'EV',\n",
              " 'HNKRLDFWYYFRFEDPVPTYC',\n",
              " '',\n",
              " 'RY',\n",
              " 'CCY',\n",
              " 'SL',\n",
              " 'ISIL',\n",
              " '',\n",
              " 'SIFGCLLPQKQQKLDGK',\n",
              " 'VQSLF',\n",
              " 'CE',\n",
              " 'LHF',\n",
              " 'ICLSAFSYGP',\n",
              " 'RKTG',\n",
              " 'FQKS',\n",
              " 'GICV',\n",
              " 'EY',\n",
              " 'WLF',\n",
              " 'NIF',\n",
              " 'AHAY',\n",
              " 'FSA',\n",
              " 'SPSGFFGFRTIGRFANRY',\n",
              " 'HH',\n",
              " 'VSNFTCFT',\n",
              " 'KLFDSW',\n",
              " 'FFFRLDSWCCSLLCGLSST',\n",
              " 'DFSIKI',\n",
              " '',\n",
              " 'KWNHYRCCRLCT',\n",
              " 'PSLRNKVYVEILHCRKRNLSNF',\n",
              " 'L',\n",
              " 'SPTNRIYC',\n",
              " 'IS',\n",
              " 'YYKLVPFW',\n",
              " 'SF',\n",
              " 'RHQICICLCLEQEENQQLCC',\n",
              " 'LFCPI',\n",
              " 'FRIIFHF',\n",
              " 'VLWSVSY',\n",
              " 'IK',\n",
              " 'SLLY',\n",
              " 'CLCRFICN',\n",
              " 'R',\n",
              " '',\n",
              " 'SQTNRSRANWKDC',\n",
              " 'L',\n",
              " 'L',\n",
              " 'ITR',\n",
              " 'FYRLRYSLEF',\n",
              " 'QS',\n",
              " 'F',\n",
              " 'GWW',\n",
              " 'L',\n",
              " 'LPV',\n",
              " 'IV',\n",
              " 'EV',\n",
              " 'SQTF',\n",
              " 'ERYFN',\n",
              " 'NLSGR',\n",
              " 'HTL',\n",
              " 'WC',\n",
              " 'RF',\n",
              " 'LLLSFTIIWFPTH',\n",
              " 'WCWLPTIQSSSTFF',\n",
              " 'TSTCTSNCLWT',\n",
              " 'KVY',\n",
              " 'FG',\n",
              " 'KQMCQFQLQWFNRHRCSY',\n",
              " 'V',\n",
              " 'QKVSAFPTIWQRHC',\n",
              " 'HY',\n",
              " 'CCP',\n",
              " 'STDT',\n",
              " 'DS',\n",
              " 'HYTMFFWWCQCYNTRNKYF',\n",
              " 'PGCCSLSGC',\n",
              " 'LHRSPCCYSCRSTYSYLACLFYRF',\n",
              " 'CFSNTCRLFNRG',\n",
              " 'TCQQLI',\n",
              " 'V',\n",
              " 'HTHWCRYMR',\n",
              " 'LSDSD',\n",
              " 'FSSAGT',\n",
              " 'CS',\n",
              " 'SIHHCLHYVTWCRKFSCLL',\n",
              " '',\n",
              " 'LYCHTHKFYY',\n",
              " 'CYHRNSTSVYDQDISRLYNVHLW',\n",
              " 'FN',\n",
              " 'MQQSFVAIWQFLYTIKPCFNWNSC',\n",
              " 'TRQKHPRSFCTSQTNLQNTTN',\n",
              " 'RFWWF',\n",
              " 'FFTNITRSIKTKQEVIY',\n",
              " 'RSTFQQSDTCRCWLHQTIW',\n",
              " 'LPW',\n",
              " 'YCC',\n",
              " 'RPHLCTKV',\n",
              " 'RPYCFATFAHR',\n",
              " 'NDCSIHFCTVSGYNHFWLDLWCRCCITNTICYANGL',\n",
              " 'V',\n",
              " 'WYWSYTECSL',\n",
              " 'EPKIDCQPI',\n",
              " '',\n",
              " 'CYWQNSRLTFFHSKCTWKTSRCGQPKCTSFKHAC',\n",
              " 'TT',\n",
              " 'LQFWCNFKCFK',\n",
              " 'YPFTS',\n",
              " 'QS',\n",
              " 'G',\n",
              " 'SAN',\n",
              " '',\n",
              " 'VDHRQTSKFADICDSTIN',\n",
              " 'SCRNQSFC',\n",
              " 'SCCY',\n",
              " 'NVRVCTWTIKKS',\n",
              " 'FLWKGLSSYVLPSVSTSWCSLLACDLCPCTRKELHNCSCHLS',\n",
              " 'WKSTLSS',\n",
              " 'RCLCFKWHTLVCNTKEFL',\n",
              " 'TTNHYYRQHICVW',\n",
              " 'L',\n",
              " 'CCNRNCQQHSL',\n",
              " 'SFAT',\n",
              " 'IRLIQGGVR',\n",
              " 'IF',\n",
              " 'ESYITRC',\n",
              " 'FR',\n",
              " 'HLWH',\n",
              " 'CFSCKHSKRN',\n",
              " 'PPQ',\n",
              " 'GCQEFK',\n",
              " 'ISHRSPRTWKV',\n",
              " 'AVYKMAMVHLARFYSWLDCHSNGDNYALLYDQLL',\n",
              " 'LSQGLLFLWILLQI',\n",
              " '',\n",
              " 'RRL',\n",
              " 'ASAQRSQITLHINELMDLFMRIFTIGTVTLKQGEIKDATPSDFVRATATIPIQASLPFGWLIVGVALLAVFQSASKIITLKKRWQLALSKGVHFVCNLLLLFVTVYSHLLLVAAGLEAPFLYLYALVYFLQSINFVRIIMRLWLCWKCRSKNPLLYDANYFLCWHTNCYDYCIPYNSVTSSIVITSGDGTTSPISEHDYQIGGYTEKWESGVKDCVVLHSYFTSDYYQLYSTQLSTDTGVEHVTFFIYNKIVDEPEEHVQIHTIDGSSGVVNPVMEPIYDEPTTTTSVPL',\n",
              " 'AQADEYELMYSFVSEETGTLIVNSVLLFLAFVVFLLVTLAILTALRLCAYCCNIVNVSLVKPSFYVYSRVKNLNSSRVPDLLV',\n",
              " 'TN',\n",
              " 'ILY',\n",
              " 'FFCLEL',\n",
              " 'F',\n",
              " 'PWQIPTVLLPLKSLKSSLNNGT',\n",
              " '',\n",
              " '',\n",
              " 'VSYSLHGFVFYNLPMPTGIGFCI',\n",
              " 'LS',\n",
              " 'FSSGCYGQ',\n",
              " 'L',\n",
              " 'LVLCLLLFTE',\n",
              " 'IGSPVELLSQWLVL',\n",
              " 'A',\n",
              " 'CGSATSLLLSDCLRVRVPCGHSIQKLTFFSTCHSMALF',\n",
              " 'PDRF',\n",
              " 'KVNS',\n",
              " 'SEL',\n",
              " 'SFVDIFVLLDTI',\n",
              " 'DAVTSRTCLKKSLLLHHERFLITNWELRSV',\n",
              " 'QVTQVLLHTVATGLATIN',\n",
              " 'TQTIPVAVTILLCLYSK',\n",
              " 'QQMFHLVDFQVTIAEILLIIMRTFKVSIWNLDYIINLIIKNLSKSLTENKYSQLDEEQPMEID',\n",
              " 'TNMKIILFLALITLATCELYHYQECVRGTTVLLKEPCSSGTYEGNSPFHPLADNKFALTCFSTQFAFACPDGVKHVYQLRARSVSPKLFIRQEEVQELYSPIFLIVAAIVFITLCFTLKRKTE',\n",
              " 'LNFH',\n",
              " 'LTSICAF',\n",
              " 'PFCYSLF',\n",
              " 'LCLLSFGSHLNCKIIMKLVTPKRT',\n",
              " 'NFLFS',\n",
              " 'ESSQL',\n",
              " 'LHFTKNVVYSHVLNINHM',\n",
              " 'LMTRVLFTSILNGILE',\n",
              " 'ELENQHL',\n",
              " 'LNCAWMRLVLNHPFSTSISVIIQFPVYLLQLIARNLNWVVL',\n",
              " 'CVVRSMKTF',\n",
              " 'SIMTFVLF',\n",
              " 'ISSKRTN',\n",
              " 'NV',\n",
              " '',\n",
              " 'WTPKSAKCTPHYVWWTLRFNWQ',\n",
              " 'PEWRTQWGAIKTTSAPRFTQ',\n",
              " 'YCVLVHRSHSTWQGRP',\n",
              " 'IPSRTRRSN',\n",
              " 'HQ',\n",
              " 'QSR',\n",
              " 'PNWLLPKSYQTNSWW',\n",
              " 'R',\n",
              " 'NERSQSKMVFLLPRNWARSWTSLWC',\n",
              " 'QRRHHMGCN',\n",
              " 'GSLEYTKRSHWHPQSC',\n",
              " 'QCCNRATTSSRNNIAKRLLRRREQRRQSSLFSFLIT',\n",
              " 'SQQFKKFNSRQQ',\n",
              " 'GNFSC',\n",
              " 'NGWQWR',\n",
              " 'CCSCFAAA',\n",
              " 'QIEPA',\n",
              " 'EQNVW',\n",
              " 'RPTTTRPNCH',\n",
              " 'EICC',\n",
              " 'GF',\n",
              " 'EASAKTYCH',\n",
              " 'SIQCNTSFRQTWSRTNPRKFWGPGTNQTRN',\n",
              " 'LQTLAANCTICPQRFSVLRNVAHWHGSHTFGNVVDLHRCHQIG',\n",
              " 'QRSKFQRSSHFAE',\n",
              " 'AY',\n",
              " 'RIQNIPTNRA',\n",
              " 'KGQKEEG',\n",
              " '',\n",
              " 'NSSLTAETEETANCDSSSCCRFG',\n",
              " 'FLQTIATIHEQC',\n",
              " 'LNSGLNSCRPHKADGLYKRFRFSVYDI',\n",
              " 'STLVQNEFS',\n",
              " 'LHSTSRCS',\n",
              " 'L',\n",
              " 'SHIAIFNQCVTLGRT',\n",
              " 'KSHHIFTEATRSTIECTVNNARESCLYGRALMCKINFSSAIPM',\n",
              " 'F',\n",
              " '',\n",
              " 'LLRRMTKKKKKKKKKK']"
            ]
          },
          "metadata": {},
          "execution_count": 117
        }
      ]
    },
    {
      "cell_type": "code",
      "metadata": {
        "id": "0p2y1_mCuyRk"
      },
      "source": [
        "import pandas as pd"
      ],
      "execution_count": 118,
      "outputs": []
    },
    {
      "cell_type": "code",
      "metadata": {
        "id": "j2gcP6S8u14r"
      },
      "source": [
        "df = pd.DataFrame({'amino_acids':covid_clean})"
      ],
      "execution_count": 119,
      "outputs": []
    },
    {
      "cell_type": "code",
      "metadata": {
        "id": "8_jqs3X4u189"
      },
      "source": [
        "df['count']=df['amino_acids'].str.len()"
      ],
      "execution_count": 120,
      "outputs": []
    },
    {
      "cell_type": "code",
      "metadata": {
        "colab": {
          "base_uri": "https://localhost:8080/",
          "height": 204
        },
        "id": "vl06e_YVveT0",
        "outputId": "03c1a83f-f460-4750-e31a-8c52434a0d6b"
      },
      "source": [
        "df.head()"
      ],
      "execution_count": 121,
      "outputs": [
        {
          "output_type": "execute_result",
          "data": {
            "text/html": [
              "<div>\n",
              "<style scoped>\n",
              "    .dataframe tbody tr th:only-of-type {\n",
              "        vertical-align: middle;\n",
              "    }\n",
              "\n",
              "    .dataframe tbody tr th {\n",
              "        vertical-align: top;\n",
              "    }\n",
              "\n",
              "    .dataframe thead th {\n",
              "        text-align: right;\n",
              "    }\n",
              "</style>\n",
              "<table border=\"1\" class=\"dataframe\">\n",
              "  <thead>\n",
              "    <tr style=\"text-align: right;\">\n",
              "      <th></th>\n",
              "      <th>amino_acids</th>\n",
              "      <th>count</th>\n",
              "    </tr>\n",
              "  </thead>\n",
              "  <tbody>\n",
              "    <tr>\n",
              "      <th>0</th>\n",
              "      <td>IKGLYLPR</td>\n",
              "      <td>8</td>\n",
              "    </tr>\n",
              "    <tr>\n",
              "      <th>1</th>\n",
              "      <td>QTNQLSISCRSVL</td>\n",
              "      <td>13</td>\n",
              "    </tr>\n",
              "    <tr>\n",
              "      <th>2</th>\n",
              "      <td>TNFKICVAVTRLHA</td>\n",
              "      <td>14</td>\n",
              "    </tr>\n",
              "    <tr>\n",
              "      <th>3</th>\n",
              "      <td>CTHAV</td>\n",
              "      <td>5</td>\n",
              "    </tr>\n",
              "    <tr>\n",
              "      <th>4</th>\n",
              "      <td>LITNYCR</td>\n",
              "      <td>7</td>\n",
              "    </tr>\n",
              "  </tbody>\n",
              "</table>\n",
              "</div>"
            ],
            "text/plain": [
              "      amino_acids  count\n",
              "0        IKGLYLPR      8\n",
              "1   QTNQLSISCRSVL     13\n",
              "2  TNFKICVAVTRLHA     14\n",
              "3           CTHAV      5\n",
              "4         LITNYCR      7"
            ]
          },
          "metadata": {},
          "execution_count": 121
        }
      ]
    },
    {
      "cell_type": "code",
      "metadata": {
        "colab": {
          "base_uri": "https://localhost:8080/",
          "height": 359
        },
        "id": "Np0O6GzAvwer",
        "outputId": "8e9ae680-2d03-40c0-8591-3a41417658c3"
      },
      "source": [
        "df.nlargest(10,'count')"
      ],
      "execution_count": 122,
      "outputs": [
        {
          "output_type": "execute_result",
          "data": {
            "text/html": [
              "<div>\n",
              "<style scoped>\n",
              "    .dataframe tbody tr th:only-of-type {\n",
              "        vertical-align: middle;\n",
              "    }\n",
              "\n",
              "    .dataframe tbody tr th {\n",
              "        vertical-align: top;\n",
              "    }\n",
              "\n",
              "    .dataframe thead th {\n",
              "        text-align: right;\n",
              "    }\n",
              "</style>\n",
              "<table border=\"1\" class=\"dataframe\">\n",
              "  <thead>\n",
              "    <tr style=\"text-align: right;\">\n",
              "      <th></th>\n",
              "      <th>amino_acids</th>\n",
              "      <th>count</th>\n",
              "    </tr>\n",
              "  </thead>\n",
              "  <tbody>\n",
              "    <tr>\n",
              "      <th>548</th>\n",
              "      <td>CTIVFKRVCGVSAARLTPCGTGTSTDVVYRAFDIYNDKVAGFAKFL...</td>\n",
              "      <td>2701</td>\n",
              "    </tr>\n",
              "    <tr>\n",
              "      <th>694</th>\n",
              "      <td>ASAQRSQITLHINELMDLFMRIFTIGTVTLKQGEIKDATPSDFVRA...</td>\n",
              "      <td>290</td>\n",
              "    </tr>\n",
              "    <tr>\n",
              "      <th>719</th>\n",
              "      <td>TNMKIILFLALITLATCELYHYQECVRGTTVLLKEPCSSGTYEGNS...</td>\n",
              "      <td>123</td>\n",
              "    </tr>\n",
              "    <tr>\n",
              "      <th>695</th>\n",
              "      <td>AQADEYELMYSFVSEETGTLIVNSVLLFLAFVVFLLVTLAILTALR...</td>\n",
              "      <td>83</td>\n",
              "    </tr>\n",
              "    <tr>\n",
              "      <th>718</th>\n",
              "      <td>QQMFHLVDFQVTIAEILLIIMRTFKVSIWNLDYIINLIIKNLSKSL...</td>\n",
              "      <td>63</td>\n",
              "    </tr>\n",
              "    <tr>\n",
              "      <th>6</th>\n",
              "      <td>DGEPCPWFQRENTRPTQFACFTGSRRARTWLWRLRGGGLIRGTSTS</td>\n",
              "      <td>46</td>\n",
              "    </tr>\n",
              "    <tr>\n",
              "      <th>464</th>\n",
              "      <td>TMLRCYFPKCSEKNNQGYTPLVVTHNFDFTFSFSPEYSMVFVLFFV</td>\n",
              "      <td>46</td>\n",
              "    </tr>\n",
              "    <tr>\n",
              "      <th>539</th>\n",
              "      <td>DVVYTHWYWSGNNSYTGSQYGSRILWWCIVLSVLPLPHRSSKS</td>\n",
              "      <td>43</td>\n",
              "    </tr>\n",
              "    <tr>\n",
              "      <th>758</th>\n",
              "      <td>LQTLAANCTICPQRFSVLRNVAHWHGSHTFGNVVDLHRCHQIG</td>\n",
              "      <td>43</td>\n",
              "    </tr>\n",
              "    <tr>\n",
              "      <th>771</th>\n",
              "      <td>KSHHIFTEATRSTIECTVNNARESCLYGRALMCKINFSSAIPM</td>\n",
              "      <td>43</td>\n",
              "    </tr>\n",
              "  </tbody>\n",
              "</table>\n",
              "</div>"
            ],
            "text/plain": [
              "                                           amino_acids  count\n",
              "548  CTIVFKRVCGVSAARLTPCGTGTSTDVVYRAFDIYNDKVAGFAKFL...   2701\n",
              "694  ASAQRSQITLHINELMDLFMRIFTIGTVTLKQGEIKDATPSDFVRA...    290\n",
              "719  TNMKIILFLALITLATCELYHYQECVRGTTVLLKEPCSSGTYEGNS...    123\n",
              "695  AQADEYELMYSFVSEETGTLIVNSVLLFLAFVVFLLVTLAILTALR...     83\n",
              "718  QQMFHLVDFQVTIAEILLIIMRTFKVSIWNLDYIINLIIKNLSKSL...     63\n",
              "6       DGEPCPWFQRENTRPTQFACFTGSRRARTWLWRLRGGGLIRGTSTS     46\n",
              "464     TMLRCYFPKCSEKNNQGYTPLVVTHNFDFTFSFSPEYSMVFVLFFV     46\n",
              "539        DVVYTHWYWSGNNSYTGSQYGSRILWWCIVLSVLPLPHRSSKS     43\n",
              "758        LQTLAANCTICPQRFSVLRNVAHWHGSHTFGNVVDLHRCHQIG     43\n",
              "771        KSHHIFTEATRSTIECTVNNARESCLYGRALMCKINFSSAIPM     43"
            ]
          },
          "metadata": {},
          "execution_count": 122
        }
      ]
    }
  ]
}